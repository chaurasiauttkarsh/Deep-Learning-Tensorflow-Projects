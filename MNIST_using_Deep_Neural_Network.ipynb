{
  "nbformat": 4,
  "nbformat_minor": 0,
  "metadata": {
    "colab": {
      "name": "MNIST_using_Deep_Neural_Network.ipynb",
      "provenance": [],
      "authorship_tag": "ABX9TyO61ZMz5a5V8ApaWB2QdtLn",
      "include_colab_link": true
    },
    "kernelspec": {
      "name": "python3",
      "display_name": "Python 3"
    }
  },
  "cells": [
    {
      "cell_type": "markdown",
      "metadata": {
        "id": "view-in-github",
        "colab_type": "text"
      },
      "source": [
        "<a href=\"https://colab.research.google.com/github/chaurasiauttkarsh/Deep-Learning-Tensorflow-Projects/blob/master/MNIST_using_Deep_Neural_Network.ipynb\" target=\"_parent\"><img src=\"https://colab.research.google.com/assets/colab-badge.svg\" alt=\"Open In Colab\"/></a>"
      ]
    },
    {
      "cell_type": "markdown",
      "metadata": {
        "id": "L5iheq4QpOza",
        "colab_type": "text"
      },
      "source": [
        "**Importing The Libraries**"
      ]
    },
    {
      "cell_type": "code",
      "metadata": {
        "id": "ZQu-IP5HpWS1",
        "colab_type": "code",
        "colab": {
          "base_uri": "https://localhost:8080/",
          "height": 80
        },
        "outputId": "6717908b-e06f-49a4-a9a6-9e63565e26b2"
      },
      "source": [
        "import tensorflow as tf\n",
        "print(tf.__version__)"
      ],
      "execution_count": 1,
      "outputs": [
        {
          "output_type": "display_data",
          "data": {
            "text/html": [
              "<p style=\"color: red;\">\n",
              "The default version of TensorFlow in Colab will soon switch to TensorFlow 2.x.<br>\n",
              "We recommend you <a href=\"https://www.tensorflow.org/guide/migrate\" target=\"_blank\">upgrade</a> now \n",
              "or ensure your notebook will continue to use TensorFlow 1.x via the <code>%tensorflow_version 1.x</code> magic:\n",
              "<a href=\"https://colab.research.google.com/notebooks/tensorflow_version.ipynb\" target=\"_blank\">more info</a>.</p>\n"
            ],
            "text/plain": [
              "<IPython.core.display.HTML object>"
            ]
          },
          "metadata": {
            "tags": []
          }
        },
        {
          "output_type": "stream",
          "text": [
            "1.15.0\n"
          ],
          "name": "stdout"
        }
      ]
    },
    {
      "cell_type": "markdown",
      "metadata": {
        "id": "Fc89bgNqqkQQ",
        "colab_type": "text"
      },
      "source": [
        "**Loading the Data**\n",
        "\n",
        "```\n",
        "The Fashion MNIST data is available directly in the tf.keras datasets API\n",
        "```\n",
        "\n"
      ]
    },
    {
      "cell_type": "code",
      "metadata": {
        "id": "E9NTiRsxqYD2",
        "colab_type": "code",
        "colab": {}
      },
      "source": [
        "mnist = tf.keras.datasets.mnist"
      ],
      "execution_count": 0,
      "outputs": []
    },
    {
      "cell_type": "markdown",
      "metadata": {
        "id": "wA-B4MGrrJTm",
        "colab_type": "text"
      },
      "source": [
        "**Training and Testing Split of Data**\n",
        "\n",
        "```\n",
        "Training = 60000 Samples\n",
        "Testing = 10000 Samples\n",
        "```\n",
        "\n"
      ]
    },
    {
      "cell_type": "code",
      "metadata": {
        "id": "wZ9Dg1QprFKc",
        "colab_type": "code",
        "colab": {
          "base_uri": "https://localhost:8080/",
          "height": 51
        },
        "outputId": "86dad180-76b2-4756-bc2f-e8063ff73c62"
      },
      "source": [
        "(training_images, training_labels), (test_images, test_labels) = mnist.load_data()"
      ],
      "execution_count": 3,
      "outputs": [
        {
          "output_type": "stream",
          "text": [
            "Downloading data from https://storage.googleapis.com/tensorflow/tf-keras-datasets/mnist.npz\n",
            "11493376/11490434 [==============================] - 0s 0us/step\n"
          ],
          "name": "stdout"
        }
      ]
    },
    {
      "cell_type": "code",
      "metadata": {
        "id": "w9CZFgSTwY6U",
        "colab_type": "code",
        "colab": {
          "base_uri": "https://localhost:8080/",
          "height": 85
        },
        "outputId": "01522dc5-538c-40cc-9b28-2dbdcc3c858f"
      },
      "source": [
        "print(\"Training Image Size {}\".format(training_images.shape))\n",
        "print(\"Training Labels Size {}\".format(training_labels.shape))\n",
        "print(\"Test Image Size {}\".format(test_images.shape))\n",
        "print(\"Test Labels Size {}\".format(test_labels.shape))"
      ],
      "execution_count": 4,
      "outputs": [
        {
          "output_type": "stream",
          "text": [
            "Training Image Size (60000, 28, 28)\n",
            "Training Labels Size (60000,)\n",
            "Test Image Size (10000, 28, 28)\n",
            "Test Labels Size (10000,)\n"
          ],
          "name": "stdout"
        }
      ]
    },
    {
      "cell_type": "markdown",
      "metadata": {
        "id": "_SNS6v0kwgoQ",
        "colab_type": "text"
      },
      "source": [
        "**Visualising the Data**"
      ]
    },
    {
      "cell_type": "code",
      "metadata": {
        "id": "FNGlDNzuwiTy",
        "colab_type": "code",
        "colab": {
          "base_uri": "https://localhost:8080/",
          "height": 282
        },
        "outputId": "13f3adfe-0322-4673-8813-c705c481cd9e"
      },
      "source": [
        "import matplotlib.pyplot as plt\n",
        "plt.imshow(training_images[1])\n",
        "print(\"Image Label {}\".format(training_labels[1]))"
      ],
      "execution_count": 5,
      "outputs": [
        {
          "output_type": "stream",
          "text": [
            "Image Label 0\n"
          ],
          "name": "stdout"
        },
        {
          "output_type": "display_data",
          "data": {
            "image/png": "[encoded data removed]",
            "text/plain": [
              "<Figure size 432x288 with 1 Axes>"
            ]
          },
          "metadata": {
            "tags": []
          }
        }
      ]
    },
    {
      "cell_type": "markdown",
      "metadata": {
        "id": "4gWDFY5ywrwA",
        "colab_type": "text"
      },
      "source": [
        "**Normalizing the Data**"
      ]
    },
    {
      "cell_type": "code",
      "metadata": {
        "id": "mm6WffpKwty2",
        "colab_type": "code",
        "colab": {}
      },
      "source": [
        "training_images = training_images/255.0\n",
        "test_images = test_images/255.0"
      ],
      "execution_count": 0,
      "outputs": []
    },
    {
      "cell_type": "markdown",
      "metadata": {
        "id": "X99R1J0IxFYW",
        "colab_type": "text"
      },
      "source": [
        "**Defining The Model and Compiling the Model**"
      ]
    },
    {
      "cell_type": "code",
      "metadata": {
        "id": "htxfcU9zxePT",
        "colab_type": "code",
        "colab": {}
      },
      "source": [
        "# Defining the Model\n",
        "model = tf.keras.Sequential([tf.keras.layers.Flatten(),\n",
        "                             tf.keras.layers.Dense(512, activation='relu'),\n",
        "                             tf.keras.layers.Dense(10, activation='softmax')])\n",
        "\n",
        "# Defining the callbacks\n",
        "class myCallback(tf.keras.callbacks.Callback):\n",
        "        def on_epoch_end(self, epoch, logs={}):\n",
        "            if(logs.get('loss') <= 0.01):\n",
        "                print(\"\\nReached 99% greater accuracy so cancelling training!\")\n",
        "                self.model.stop_training = True\n",
        "callbacks = myCallback()\n",
        "\n",
        "# Compilin the model\n",
        "model.compile(optimizer='adam',\n",
        "              loss='sparse_categorical_crossentropy',\n",
        "              metrices=['accuracy'])"
      ],
      "execution_count": 0,
      "outputs": []
    },
    {
      "cell_type": "markdown",
      "metadata": {
        "id": "sWqjaDnHyF5r",
        "colab_type": "text"
      },
      "source": [
        "**Fitting the Model**"
      ]
    },
    {
      "cell_type": "code",
      "metadata": {
        "id": "oS9fJNb2xo5q",
        "colab_type": "code",
        "colab": {
          "base_uri": "https://localhost:8080/",
          "height": 408
        },
        "outputId": "e2dae230-c474-4eac-ff6a-62bd5193cb9b"
      },
      "source": [
        "history = model.fit(training_images, training_labels, epochs=10, callbacks=[callbacks])"
      ],
      "execution_count": 18,
      "outputs": [
        {
          "output_type": "stream",
          "text": [
            "Train on 60000 samples\n",
            "Epoch 1/10\n",
            "60000/60000 [==============================] - 7s 118us/sample - loss: 0.2014\n",
            "Epoch 2/10\n",
            "60000/60000 [==============================] - 7s 115us/sample - loss: 0.0799\n",
            "Epoch 3/10\n",
            "60000/60000 [==============================] - 7s 115us/sample - loss: 0.0539\n",
            "Epoch 4/10\n",
            "60000/60000 [==============================] - 7s 117us/sample - loss: 0.0363\n",
            "Epoch 5/10\n",
            "60000/60000 [==============================] - 7s 115us/sample - loss: 0.0275\n",
            "Epoch 6/10\n",
            "60000/60000 [==============================] - 7s 116us/sample - loss: 0.0213\n",
            "Epoch 7/10\n",
            "60000/60000 [==============================] - 7s 115us/sample - loss: 0.0175\n",
            "Epoch 8/10\n",
            "60000/60000 [==============================] - 7s 117us/sample - loss: 0.0137\n",
            "Epoch 9/10\n",
            "60000/60000 [==============================] - 7s 121us/sample - loss: 0.0122\n",
            "Epoch 10/10\n",
            "59936/60000 [============================>.] - ETA: 0s - loss: 0.0088\n",
            "Reached 99% greater accuracy so cancelling training!\n",
            "60000/60000 [==============================] - 7s 121us/sample - loss: 0.0088\n"
          ],
          "name": "stdout"
        }
      ]
    }
  ]
}