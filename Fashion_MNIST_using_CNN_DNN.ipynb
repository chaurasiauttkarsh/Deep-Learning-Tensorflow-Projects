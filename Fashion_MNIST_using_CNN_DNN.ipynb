{
  "nbformat": 4,
  "nbformat_minor": 0,
  "metadata": {
    "colab": {
      "name": "Fashion MNIST using CNN DNN.ipynb",
      "provenance": [],
      "authorship_tag": "ABX9TyOLjC1qhnDbIvOfQN3sjgj3",
      "include_colab_link": true
    },
    "kernelspec": {
      "name": "python3",
      "display_name": "Python 3"
    }
  },
  "cells": [
    {
      "cell_type": "markdown",
      "metadata": {
        "id": "view-in-github",
        "colab_type": "text"
      },
      "source": [
        "<a href=\"https://colab.research.google.com/github/chaurasiauttkarsh/Deep-Learning-Tensorflow-Projects/blob/master/Fashion_MNIST_using_CNN_DNN.ipynb\" target=\"_parent\"><img src=\"https://colab.research.google.com/assets/colab-badge.svg\" alt=\"Open In Colab\"/></a>"
      ]
    },
    {
      "cell_type": "markdown",
      "metadata": {
        "id": "PowubgmdbqUs",
        "colab_type": "text"
      },
      "source": [
        "**Importing The Libraries**"
      ]
    },
    {
      "cell_type": "code",
      "metadata": {
        "id": "2QsjZ0P4bqu0",
        "colab_type": "code",
        "outputId": "a81e464f-d1dd-4256-8250-f03316c90287",
        "colab": {
          "base_uri": "https://localhost:8080/",
          "height": 34
        }
      },
      "source": [
        "import tensorflow as tf\n",
        "from tensorflow import keras\n",
        "print(tf.__version__)"
      ],
      "execution_count": 1,
      "outputs": [
        {
          "output_type": "stream",
          "text": [
            "2.1.0\n"
          ],
          "name": "stdout"
        }
      ]
    },
    {
      "cell_type": "markdown",
      "metadata": {
        "id": "WAR-MrhOb_q7",
        "colab_type": "text"
      },
      "source": [
        "**Loading the Data**\n",
        "\n",
        "```\n",
        "The Fashion MNIST data is available directly in the tf.keras datasets API\n",
        "```\n",
        "\n"
      ]
    },
    {
      "cell_type": "code",
      "metadata": {
        "id": "JVz0LdZmcGQe",
        "colab_type": "code",
        "colab": {}
      },
      "source": [
        "mnist = tf.keras.datasets.fashion_mnist"
      ],
      "execution_count": 0,
      "outputs": []
    },
    {
      "cell_type": "markdown",
      "metadata": {
        "id": "5lqWYgW7cQLp",
        "colab_type": "text"
      },
      "source": [
        "**Training and Testing Split of Data**\n",
        "\n",
        "```\n",
        "Training = 60000 Samples\n",
        "Testing = 10000 Samples\n",
        "```\n",
        "\n"
      ]
    },
    {
      "cell_type": "code",
      "metadata": {
        "id": "8BF5Tahic8mZ",
        "colab_type": "code",
        "colab": {}
      },
      "source": [
        "(training_images, training_labels), (test_images, test_labels) = mnist.load_data()"
      ],
      "execution_count": 0,
      "outputs": []
    },
    {
      "cell_type": "code",
      "metadata": {
        "id": "-b2oaEO-ei6J",
        "colab_type": "code",
        "outputId": "26a15184-8ed3-4164-8dd3-e150559eb057",
        "colab": {
          "base_uri": "https://localhost:8080/",
          "height": 85
        }
      },
      "source": [
        "print(\"Training Image Size {}\".format(training_images.shape))\n",
        "print(\"Training Labels Size {}\".format(training_labels.shape))\n",
        "print(\"Test Image Size {}\".format(test_images.shape))\n",
        "print(\"Test Labels Size {}\".format(test_labels.shape))"
      ],
      "execution_count": 4,
      "outputs": [
        {
          "output_type": "stream",
          "text": [
            "Training Image Size (60000, 28, 28)\n",
            "Training Labels Size (60000,)\n",
            "Test Image Size (10000, 28, 28)\n",
            "Test Labels Size (10000,)\n"
          ],
          "name": "stdout"
        }
      ]
    },
    {
      "cell_type": "markdown",
      "metadata": {
        "id": "NXOmtF6oe-7O",
        "colab_type": "text"
      },
      "source": [
        "**Visualising the Data**"
      ]
    },
    {
      "cell_type": "code",
      "metadata": {
        "id": "3PtBcbdNfIVf",
        "colab_type": "code",
        "outputId": "bc19a285-7bf6-4298-834a-d623bc15e7cc",
        "colab": {
          "base_uri": "https://localhost:8080/",
          "height": 282
        }
      },
      "source": [
        "import matplotlib.pyplot as plt\n",
        "plt.imshow(training_images[1])\n",
        "print(\"Image Label {}\".format(training_labels[1]))"
      ],
      "execution_count": 5,
      "outputs": [
        {
          "output_type": "stream",
          "text": [
            "Image Label 0\n"
          ],
          "name": "stdout"
        },
        {
          "output_type": "display_data",
          "data": {
            "image/png": "[encoded data removed]",
            "text/plain": [
              "<Figure size 432x288 with 1 Axes>"
            ]
          },
          "metadata": {
            "tags": []
          }
        }
      ]
    },
    {
      "cell_type": "markdown",
      "metadata": {
        "id": "f3uy2WEShk-O",
        "colab_type": "text"
      },
      "source": [
        "**Normalizing the Data**"
      ]
    },
    {
      "cell_type": "code",
      "metadata": {
        "id": "DKqVzoTVhkN_",
        "colab_type": "code",
        "colab": {}
      },
      "source": [
        "training_images=training_images.reshape(60000, 28, 28, 1)\n",
        "training_images=training_images / 255.0\n",
        "test_images = test_images.reshape(10000, 28, 28, 1)\n",
        "test_images=test_images/255.0"
      ],
      "execution_count": 0,
      "outputs": []
    },
    {
      "cell_type": "markdown",
      "metadata": {
        "id": "6o2zAQfYh2LI",
        "colab_type": "text"
      },
      "source": [
        "**Defining The Model**\n",
        "\n"
      ]
    },
    {
      "cell_type": "code",
      "metadata": {
        "id": "cysbyABPitW0",
        "colab_type": "code",
        "colab": {
          "base_uri": "https://localhost:8080/",
          "height": 391
        },
        "outputId": "e6bbb641-6713-4c34-ad50-7d75287d1fb6"
      },
      "source": [
        "model = tf.keras.Sequential([tf.keras.layers.Conv2D(64, (3,3), activation='relu', input_shape=(28, 28, 1)),\n",
        "                             tf.keras.layers.MaxPooling2D(2, 2),\n",
        "                             tf.keras.layers.Conv2D(64, (3,3), activation='relu'),\n",
        "                             tf.keras.layers.MaxPooling2D(2,2),\n",
        "                             tf.keras.layers.Flatten(),\n",
        "                             tf.keras.layers.Dense(128, activation='relu'),\n",
        "                             tf.keras.layers.Dense(10, activation='softmax')])\n",
        "\n",
        "model.summary()"
      ],
      "execution_count": 7,
      "outputs": [
        {
          "output_type": "stream",
          "text": [
            "Model: \"sequential\"\n",
            "_________________________________________________________________\n",
            "Layer (type)                 Output Shape              Param #   \n",
            "=================================================================\n",
            "conv2d (Conv2D)              (None, 26, 26, 64)        640       \n",
            "_________________________________________________________________\n",
            "max_pooling2d (MaxPooling2D) (None, 13, 13, 64)        0         \n",
            "_________________________________________________________________\n",
            "conv2d_1 (Conv2D)            (None, 11, 11, 64)        36928     \n",
            "_________________________________________________________________\n",
            "max_pooling2d_1 (MaxPooling2 (None, 5, 5, 64)          0         \n",
            "_________________________________________________________________\n",
            "flatten (Flatten)            (None, 1600)              0         \n",
            "_________________________________________________________________\n",
            "dense (Dense)                (None, 128)               204928    \n",
            "_________________________________________________________________\n",
            "dense_1 (Dense)              (None, 10)                1290      \n",
            "=================================================================\n",
            "Total params: 243,786\n",
            "Trainable params: 243,786\n",
            "Non-trainable params: 0\n",
            "_________________________________________________________________\n"
          ],
          "name": "stdout"
        }
      ]
    },
    {
      "cell_type": "markdown",
      "metadata": {
        "id": "pr7TYH_qjRDN",
        "colab_type": "text"
      },
      "source": [
        "**Compliling the Model**\n",
        "\n",
        "```\n",
        "optimizer = Stochastic Gradient Descent\n",
        "loss = Mean Squared Error\n",
        "metrices = [accuracy]\n",
        "```\n",
        "\n",
        "\n"
      ]
    },
    {
      "cell_type": "code",
      "metadata": {
        "id": "sdf_Q3VqjlBs",
        "colab_type": "code",
        "colab": {}
      },
      "source": [
        "class myCallback(tf.keras.callbacks.Callback):\n",
        "        def on_epoch_end(self, epoch, logs={}):\n",
        "            if(logs.get('sparse_categorical_accuracy') > 0.994):\n",
        "                print(\"\\nReached 99.4% greater accuracy so cancelling training!\")\n",
        "                self.model.stop_training = True\n",
        "callbacks = myCallback()\n",
        "\n",
        "model.compile(optimizer='adam',\n",
        "              loss='sparse_categorical_crossentropy',\n",
        "              metrics=['sparse_categorical_accuracy'])"
      ],
      "execution_count": 0,
      "outputs": []
    },
    {
      "cell_type": "markdown",
      "metadata": {
        "id": "zY-wInydkHMU",
        "colab_type": "text"
      },
      "source": [
        "**Training the Model**"
      ]
    },
    {
      "cell_type": "code",
      "metadata": {
        "id": "FNYhAF0nkDcF",
        "colab_type": "code",
        "outputId": "d3582b4a-1c75-4eaf-9241-0feb91d5cf67",
        "colab": {
          "base_uri": "https://localhost:8080/",
          "height": 374
        }
      },
      "source": [
        "history = model.fit(training_images, training_labels, epochs = 10, callbacks=[callbacks])"
      ],
      "execution_count": 14,
      "outputs": [
        {
          "output_type": "stream",
          "text": [
            "Train on 60000 samples\n",
            "Epoch 1/10\n",
            "60000/60000 [==============================] - 89s 1ms/sample - loss: 0.2829 - sparse_categorical_accuracy: 0.8956\n",
            "Epoch 2/10\n",
            "60000/60000 [==============================] - 88s 1ms/sample - loss: 0.2370 - sparse_categorical_accuracy: 0.9120\n",
            "Epoch 3/10\n",
            "60000/60000 [==============================] - 88s 1ms/sample - loss: 0.2060 - sparse_categorical_accuracy: 0.9227\n",
            "Epoch 4/10\n",
            "60000/60000 [==============================] - 88s 1ms/sample - loss: 0.1804 - sparse_categorical_accuracy: 0.9326\n",
            "Epoch 5/10\n",
            "60000/60000 [==============================] - 88s 1ms/sample - loss: 0.1576 - sparse_categorical_accuracy: 0.9410\n",
            "Epoch 6/10\n",
            "60000/60000 [==============================] - 87s 1ms/sample - loss: 0.1396 - sparse_categorical_accuracy: 0.9467\n",
            "Epoch 7/10\n",
            "60000/60000 [==============================] - 88s 1ms/sample - loss: 0.1227 - sparse_categorical_accuracy: 0.9537\n",
            "Epoch 8/10\n",
            "60000/60000 [==============================] - 89s 1ms/sample - loss: 0.1081 - sparse_categorical_accuracy: 0.9592\n",
            "Epoch 9/10\n",
            "60000/60000 [==============================] - 88s 1ms/sample - loss: 0.0961 - sparse_categorical_accuracy: 0.9632\n",
            "Epoch 10/10\n",
            "60000/60000 [==============================] - 87s 1ms/sample - loss: 0.0836 - sparse_categorical_accuracy: 0.9681\n"
          ],
          "name": "stdout"
        }
      ]
    },
    {
      "cell_type": "markdown",
      "metadata": {
        "id": "4tzpsF-pkVGv",
        "colab_type": "text"
      },
      "source": [
        "**Evaluating the Model**"
      ]
    },
    {
      "cell_type": "code",
      "metadata": {
        "id": "ivyUtFFpkQ9n",
        "colab_type": "code",
        "outputId": "7bd48939-8687-4ea2-e930-38c3bfce7666",
        "colab": {
          "base_uri": "https://localhost:8080/",
          "height": 51
        }
      },
      "source": [
        "model.evaluate(test_images, test_labels)"
      ],
      "execution_count": 15,
      "outputs": [
        {
          "output_type": "stream",
          "text": [
            "10000/10000 [==============================] - 5s 495us/sample - loss: 0.3361 - sparse_categorical_accuracy: 0.9073\n"
          ],
          "name": "stdout"
        },
        {
          "output_type": "execute_result",
          "data": {
            "text/plain": [
              "[0.33610861933231356, 0.9073]"
            ]
          },
          "metadata": {
            "tags": []
          },
          "execution_count": 15
        }
      ]
    },
    {
      "cell_type": "code",
      "metadata": {
        "id": "Jk39vvGRTfrO",
        "colab_type": "code",
        "colab": {}
      },
      "source": [
        ""
      ],
      "execution_count": 0,
      "outputs": []
    }
  ]
}