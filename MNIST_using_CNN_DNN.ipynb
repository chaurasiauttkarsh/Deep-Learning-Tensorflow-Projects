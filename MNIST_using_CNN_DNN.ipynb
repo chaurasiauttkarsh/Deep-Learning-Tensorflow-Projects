{
  "nbformat": 4,
  "nbformat_minor": 0,
  "metadata": {
    "colab": {
      "name": "MNIST_using_CNN_DNN.ipynb",
      "provenance": [],
      "authorship_tag": "ABX9TyN+GACHtPTEiZ8+g+Rz5lQv",
      "include_colab_link": true
    },
    "kernelspec": {
      "name": "python3",
      "display_name": "Python 3"
    }
  },
  "cells": [
    {
      "cell_type": "markdown",
      "metadata": {
        "id": "view-in-github",
        "colab_type": "text"
      },
      "source": [
        "<a href=\"https://colab.research.google.com/github/chaurasiauttkarsh/Deep-Learning-Tensorflow-Projects/blob/master/MNIST_using_CNN_DNN.ipynb\" target=\"_parent\"><img src=\"https://colab.research.google.com/assets/colab-badge.svg\" alt=\"Open In Colab\"/></a>"
      ]
    },
    {
      "cell_type": "markdown",
      "metadata": {
        "id": "PowubgmdbqUs",
        "colab_type": "text"
      },
      "source": [
        "**Importing The Libraries**"
      ]
    },
    {
      "cell_type": "code",
      "metadata": {
        "id": "2QsjZ0P4bqu0",
        "colab_type": "code",
        "outputId": "1b095dc2-cb18-49aa-9b63-2739f51fabba",
        "colab": {
          "base_uri": "https://localhost:8080/",
          "height": 80
        }
      },
      "source": [
        "import tensorflow as tf\n",
        "from tensorflow import keras\n",
        "print(tf.__version__)"
      ],
      "execution_count": 1,
      "outputs": [
        {
          "output_type": "display_data",
          "data": {
            "text/html": [
              "<p style=\"color: red;\">\n",
              "The default version of TensorFlow in Colab will soon switch to TensorFlow 2.x.<br>\n",
              "We recommend you <a href=\"https://www.tensorflow.org/guide/migrate\" target=\"_blank\">upgrade</a> now \n",
              "or ensure your notebook will continue to use TensorFlow 1.x via the <code>%tensorflow_version 1.x</code> magic:\n",
              "<a href=\"https://colab.research.google.com/notebooks/tensorflow_version.ipynb\" target=\"_blank\">more info</a>.</p>\n"
            ],
            "text/plain": [
              "<IPython.core.display.HTML object>"
            ]
          },
          "metadata": {
            "tags": []
          }
        },
        {
          "output_type": "stream",
          "text": [
            "1.15.0\n"
          ],
          "name": "stdout"
        }
      ]
    },
    {
      "cell_type": "markdown",
      "metadata": {
        "id": "WAR-MrhOb_q7",
        "colab_type": "text"
      },
      "source": [
        "**Loading the Data**\n",
        "\n",
        "```\n",
        "The Fashion MNIST data is available directly in the tf.keras datasets API\n",
        "```\n",
        "\n"
      ]
    },
    {
      "cell_type": "code",
      "metadata": {
        "id": "JVz0LdZmcGQe",
        "colab_type": "code",
        "colab": {}
      },
      "source": [
        "mnist = tf.keras.datasets.mnist"
      ],
      "execution_count": 0,
      "outputs": []
    },
    {
      "cell_type": "markdown",
      "metadata": {
        "id": "5lqWYgW7cQLp",
        "colab_type": "text"
      },
      "source": [
        "**Training and Testing Split of Data**\n",
        "\n",
        "```\n",
        "Training = 60000 Samples\n",
        "Testing = 10000 Samples\n",
        "```\n",
        "\n"
      ]
    },
    {
      "cell_type": "code",
      "metadata": {
        "id": "8BF5Tahic8mZ",
        "colab_type": "code",
        "colab": {
          "base_uri": "https://localhost:8080/",
          "height": 51
        },
        "outputId": "41a11191-4b7f-4a7c-c48d-ecf365d91009"
      },
      "source": [
        "(training_images, training_labels), (test_images, test_labels) = mnist.load_data()"
      ],
      "execution_count": 3,
      "outputs": [
        {
          "output_type": "stream",
          "text": [
            "Downloading data from https://storage.googleapis.com/tensorflow/tf-keras-datasets/mnist.npz\n",
            "11493376/11490434 [==============================] - 0s 0us/step\n"
          ],
          "name": "stdout"
        }
      ]
    },
    {
      "cell_type": "code",
      "metadata": {
        "id": "-b2oaEO-ei6J",
        "colab_type": "code",
        "outputId": "c31ed940-9d26-4e35-d223-80210fadb83a",
        "colab": {
          "base_uri": "https://localhost:8080/",
          "height": 85
        }
      },
      "source": [
        "print(\"Training Image Size {}\".format(training_images.shape))\n",
        "print(\"Training Labels Size {}\".format(training_labels.shape))\n",
        "print(\"Test Image Size {}\".format(test_images.shape))\n",
        "print(\"Test Labels Size {}\".format(test_labels.shape))"
      ],
      "execution_count": 4,
      "outputs": [
        {
          "output_type": "stream",
          "text": [
            "Training Image Size (60000, 28, 28)\n",
            "Training Labels Size (60000,)\n",
            "Test Image Size (10000, 28, 28)\n",
            "Test Labels Size (10000,)\n"
          ],
          "name": "stdout"
        }
      ]
    },
    {
      "cell_type": "markdown",
      "metadata": {
        "id": "NXOmtF6oe-7O",
        "colab_type": "text"
      },
      "source": [
        "**Visualising the Data**"
      ]
    },
    {
      "cell_type": "code",
      "metadata": {
        "id": "3PtBcbdNfIVf",
        "colab_type": "code",
        "outputId": "68675dc1-f935-47c6-9298-c3b42582fe53",
        "colab": {
          "base_uri": "https://localhost:8080/",
          "height": 282
        }
      },
      "source": [
        "import matplotlib.pyplot as plt\n",
        "plt.imshow(training_images[1])\n",
        "print(\"Image Label {}\".format(training_labels[1]))"
      ],
      "execution_count": 5,
      "outputs": [
        {
          "output_type": "stream",
          "text": [
            "Image Label 0\n"
          ],
          "name": "stdout"
        },
        {
          "output_type": "display_data",
          "data": {
            "image/png": "[encoded data removed]",
            "text/plain": [
              "<Figure size 432x288 with 1 Axes>"
            ]
          },
          "metadata": {
            "tags": []
          }
        }
      ]
    },
    {
      "cell_type": "markdown",
      "metadata": {
        "id": "f3uy2WEShk-O",
        "colab_type": "text"
      },
      "source": [
        "**Normalizing the Data**"
      ]
    },
    {
      "cell_type": "code",
      "metadata": {
        "id": "DKqVzoTVhkN_",
        "colab_type": "code",
        "colab": {}
      },
      "source": [
        "training_images=training_images.reshape(60000, 28, 28, 1)\n",
        "training_images=training_images / 255.0\n",
        "test_images = test_images.reshape(10000, 28, 28, 1)\n",
        "test_images=test_images/255.0"
      ],
      "execution_count": 0,
      "outputs": []
    },
    {
      "cell_type": "markdown",
      "metadata": {
        "id": "6o2zAQfYh2LI",
        "colab_type": "text"
      },
      "source": [
        "**Defining The Model**\n",
        "\n"
      ]
    },
    {
      "cell_type": "code",
      "metadata": {
        "id": "cysbyABPitW0",
        "colab_type": "code",
        "outputId": "cb610061-a274-43e0-b6a3-fce29376aba4",
        "colab": {
          "base_uri": "https://localhost:8080/",
          "height": 462
        }
      },
      "source": [
        "model = tf.keras.Sequential([tf.keras.layers.Conv2D(64, (3,3), activation='relu', input_shape=(28, 28, 1)),\n",
        "                             tf.keras.layers.MaxPooling2D(2, 2),\n",
        "                             tf.keras.layers.Conv2D(64, (3,3), activation='relu'),\n",
        "                             tf.keras.layers.MaxPooling2D(2,2),\n",
        "                             tf.keras.layers.Flatten(),\n",
        "                             tf.keras.layers.Dense(128, activation='relu'),\n",
        "                             tf.keras.layers.Dense(10, activation='softmax')])\n",
        "\n",
        "model.summary()"
      ],
      "execution_count": 7,
      "outputs": [
        {
          "output_type": "stream",
          "text": [
            "WARNING:tensorflow:From /tensorflow-1.15.0/python3.6/tensorflow_core/python/ops/resource_variable_ops.py:1630: calling BaseResourceVariable.__init__ (from tensorflow.python.ops.resource_variable_ops) with constraint is deprecated and will be removed in a future version.\n",
            "Instructions for updating:\n",
            "If using Keras pass *_constraint arguments to layers.\n",
            "Model: \"sequential\"\n",
            "_________________________________________________________________\n",
            "Layer (type)                 Output Shape              Param #   \n",
            "=================================================================\n",
            "conv2d (Conv2D)              (None, 26, 26, 64)        640       \n",
            "_________________________________________________________________\n",
            "max_pooling2d (MaxPooling2D) (None, 13, 13, 64)        0         \n",
            "_________________________________________________________________\n",
            "conv2d_1 (Conv2D)            (None, 11, 11, 64)        36928     \n",
            "_________________________________________________________________\n",
            "max_pooling2d_1 (MaxPooling2 (None, 5, 5, 64)          0         \n",
            "_________________________________________________________________\n",
            "flatten (Flatten)            (None, 1600)              0         \n",
            "_________________________________________________________________\n",
            "dense (Dense)                (None, 128)               204928    \n",
            "_________________________________________________________________\n",
            "dense_1 (Dense)              (None, 10)                1290      \n",
            "=================================================================\n",
            "Total params: 243,786\n",
            "Trainable params: 243,786\n",
            "Non-trainable params: 0\n",
            "_________________________________________________________________\n"
          ],
          "name": "stdout"
        }
      ]
    },
    {
      "cell_type": "markdown",
      "metadata": {
        "id": "pr7TYH_qjRDN",
        "colab_type": "text"
      },
      "source": [
        "**Compliling the Model**\n",
        "\n",
        "```\n",
        "optimizer = Stochastic Gradient Descent\n",
        "loss = Mean Squared Error\n",
        "metrices = [accuracy]\n",
        "```\n",
        "\n",
        "\n"
      ]
    },
    {
      "cell_type": "code",
      "metadata": {
        "id": "sdf_Q3VqjlBs",
        "colab_type": "code",
        "colab": {}
      },
      "source": [
        "class myCallback(tf.keras.callbacks.Callback):\n",
        "        def on_epoch_end(self, epoch, logs={}):\n",
        "            if(logs.get('sparse_categorical_accuracy') > 0.998):\n",
        "                print(\"\\nReached 99.8% greater accuracy so cancelling training!\")\n",
        "                self.model.stop_training = True\n",
        "callbacks = myCallback()\n",
        "\n",
        "model.compile(optimizer='adam',\n",
        "              loss='sparse_categorical_crossentropy',\n",
        "              metrics=['sparse_categorical_accuracy'])"
      ],
      "execution_count": 0,
      "outputs": []
    },
    {
      "cell_type": "markdown",
      "metadata": {
        "id": "zY-wInydkHMU",
        "colab_type": "text"
      },
      "source": [
        "**Training the Model**"
      ]
    },
    {
      "cell_type": "code",
      "metadata": {
        "id": "FNYhAF0nkDcF",
        "colab_type": "code",
        "outputId": "691899de-e666-475a-ae23-732543a4000d",
        "colab": {
          "base_uri": "https://localhost:8080/",
          "height": 374
        }
      },
      "source": [
        "history = model.fit(training_images, training_labels, epochs = 20, callbacks=[callbacks])"
      ],
      "execution_count": 11,
      "outputs": [
        {
          "output_type": "stream",
          "text": [
            "Train on 60000 samples\n",
            "Epoch 1/20\n",
            "60000/60000 [==============================] - 81s 1ms/sample - loss: 0.0602 - sparse_categorical_accuracy: 0.9807\n",
            "Epoch 2/20\n",
            "60000/60000 [==============================] - 81s 1ms/sample - loss: 0.0320 - sparse_categorical_accuracy: 0.9897\n",
            "Epoch 3/20\n",
            "60000/60000 [==============================] - 81s 1ms/sample - loss: 0.0226 - sparse_categorical_accuracy: 0.9932\n",
            "Epoch 4/20\n",
            "60000/60000 [==============================] - 82s 1ms/sample - loss: 0.0157 - sparse_categorical_accuracy: 0.9949\n",
            "Epoch 5/20\n",
            "60000/60000 [==============================] - 82s 1ms/sample - loss: 0.0135 - sparse_categorical_accuracy: 0.9956\n",
            "Epoch 6/20\n",
            "60000/60000 [==============================] - 82s 1ms/sample - loss: 0.0103 - sparse_categorical_accuracy: 0.9965\n",
            "Epoch 7/20\n",
            "60000/60000 [==============================] - 79s 1ms/sample - loss: 0.0084 - sparse_categorical_accuracy: 0.9972\n",
            "Epoch 8/20\n",
            "60000/60000 [==============================] - 80s 1ms/sample - loss: 0.0068 - sparse_categorical_accuracy: 0.9977\n",
            "Epoch 9/20\n",
            "59936/60000 [============================>.] - ETA: 0s - loss: 0.0062 - sparse_categorical_accuracy: 0.9980\n",
            "Reached 99.8% greater accuracy so cancelling training!\n",
            "60000/60000 [==============================] - 80s 1ms/sample - loss: 0.0061 - sparse_categorical_accuracy: 0.9980\n"
          ],
          "name": "stdout"
        }
      ]
    },
    {
      "cell_type": "markdown",
      "metadata": {
        "id": "4tzpsF-pkVGv",
        "colab_type": "text"
      },
      "source": [
        "**Evaluating the Model**"
      ]
    },
    {
      "cell_type": "code",
      "metadata": {
        "id": "ivyUtFFpkQ9n",
        "colab_type": "code",
        "outputId": "21f4c9d4-8f9f-4456-cf40-d2f07a5aea1c",
        "colab": {
          "base_uri": "https://localhost:8080/",
          "height": 51
        }
      },
      "source": [
        "model.evaluate(test_images, test_labels)"
      ],
      "execution_count": 12,
      "outputs": [
        {
          "output_type": "stream",
          "text": [
            "10000/10000 [==============================] - 4s 406us/sample - loss: 0.0286 - sparse_categorical_accuracy: 0.9926\n"
          ],
          "name": "stdout"
        },
        {
          "output_type": "execute_result",
          "data": {
            "text/plain": [
              "[0.028565820879499187, 0.9926]"
            ]
          },
          "metadata": {
            "tags": []
          },
          "execution_count": 12
        }
      ]
    }
  ]
}